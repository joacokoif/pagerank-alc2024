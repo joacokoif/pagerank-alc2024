{
 "cells": [
  {
   "cell_type": "markdown",
   "id": "7c9189f6",
   "metadata": {},
   "source": [
    "# Trabajo Práctico 1 - Cálculo de Ranking Page"
   ]
  },
  {
   "cell_type": "markdown",
   "id": "6e0f8dd8-6d20-43c0-987b-5f613f0168d6",
   "metadata": {},
   "source": [
    "## Enunciado"
   ]
  },
  {
   "cell_type": "markdown",
   "id": "11f7face-a325-4e30-b13e-0c3d84280c5e",
   "metadata": {},
   "source": [
    "### Pregunta 1 - ¿Por que la matriz A definida en (4) es equivalente a $p \\ \\mathbf{W} \\ \\mathbf{D} + e \\ z^t$ ? Justificar."
   ]
  },
  {
   "cell_type": "markdown",
   "id": "e69c407d-9132-421c-8d02-508da3bb3ae6",
   "metadata": {},
   "source": [
    "Primero podemos ver que $e \\cdot z^t$ tiene todas las filas iguales ya que $e$ es el vector de unos en $\\mathbb{R}^n$, la matriz $A$ definida en (4) tiene dos términos, y justamente $e \\cdot z^t$ es exactamente uno de ellos y no depende de $i$ (sólo de $j$ ya que debemos ver si es o no igual a 0).\n",
    "\n",
    "Si quitamos $e \\cdot z^t$, nos queda\n",
    "$pW D=\\begin{cases}\n",
    "(p \\cdot w_{ij} )/c_j &\\text{si } c_j \\neq 0\\\\\n",
    "0 &\\text{si } c_j = 0\n",
    "\\end{cases}$\n",
    "\n",
    "Como $p ∈ (0, 1) $ podemos despejar también ese valor.\n",
    "\n",
    "Para ver que lo que nos queda es $WD$, podemos recordar que $D$ es diagonal y cómo está multiplicando a la derecha de $W$, cada valor de la diagonal multiplicará a su $n-ésima$ columna, justamente, cada valor de la diagonal de $D$ es $1/c_j$. Así queda justificada la equivalencia entre ambas igualdades."
   ]
  },
  {
   "cell_type": "markdown",
   "id": "6ea60699-4c07-40fb-8f71-ec4cacf32708",
   "metadata": {},
   "source": [
    "### Pregunta 2 -  ¿Cómo se garantiza existencia de la factorización $LU$? ¿ La matriz $(\\mathbf{I} - p \\ \\mathbf{W} \\ \\mathbf{D})$ está bien condicionada? ¿Cómo influye el valor de $p$?"
   ]
  },
  {
   "cell_type": "markdown",
   "id": "cbc1a492",
   "metadata": {},
   "source": [
    "Podemos garantizar que existe una factorización LU de nuestra matriz $(\\mathbf{I} - p\\mathbf{W}\\mathbf{D})$ debido su estructura y propiedades con la matriz $\\mathbf{I}$. \n",
    "\n",
    "Recordemos, primero, que la matriz $\\mathbf{W}\\mathbf{D}$ es una matriz cuadrada, incluso cuando se la multiplica por el escalar $p$. \n",
    "Por lo tanto, la matriz $(\\mathbf{I} - p\\mathbf{W}\\mathbf{D})$ es cuadrada. \n",
    "\n",
    "Desarmandola un poco, obtenemos una matriz bastante similar a la $\\mathbf{I}$, con unas modificaciones debido a \n",
    "$p\\mathbf{W}\\mathbf{D}$. Pero como $p ∈ (0, 1) $, los valores de $p\\mathbf{W}\\mathbf{D}$ van a ser menores que 1, y muy similar a la matriz $\\mathbf{I}$, por lo que va a seguir manteniendo pripiedades similares a la misma, lo que facilitaria la posibilidad de hallar una factrizacion LU.\n",
    "\n",
    "Tambien, el hecho de que la matriz $(\\mathbf{I} - p\\mathbf{W}\\mathbf{D})$ sea \"similar\" a $\\mathbf{I}$, mos muestra que ninguna fila o columna se anula completamente. Esto nos ayuda a ver que todas las sumbatrices principales de $(\\mathbf{I} - p\\mathbf{W}\\mathbf{D})$ van a ser inversibles, ya que va a seguir manteniendo la misma estructura que la matriz completa, pero con dimensiones más pequeñas.\n",
    "\n",
    "Estas dos condiciones garantizan que el determinante de $(\\mathbf{I} - p\\mathbf{W}\\mathbf{D})$ sea distinto de cero, y que no haya divisiones por cero durante la eliminación gaussiana.\n",
    "\n",
    "Ademas podemos ver que: \n",
    "\n",
    "El condicionamiento de la matriz $(\\mathbf{I} - p\\mathbf{W}\\mathbf{D})$ se puede calcular utilizando su número de condición, que determina cuán sensible es la solución de un sistema de ecuaciones lineales ante pequeñas perturbaciones en los datos de entrada. Cuanto más cercano a 1 esté el número de condición, mejor condicionada estará dicha matriz; y a mayor número de condición, peor condicionada.\n",
    "\n",
    "En este caso, el número de condición de la matriz $(\\mathbf{I} - p\\mathbf{W}\\mathbf{D})$ se calcula de la siguiente manera:\n",
    "\n",
    "$$\\text{cond}((\\mathbf{I} - p\\mathbf{W}\\mathbf{D})) = \\left|(\\mathbf{I} - p\\mathbf{W}\\mathbf{D})\\right| \\cdot \\left|(\\mathbf{I} - p\\mathbf{W}\\mathbf{D})^{-1}\\right|\n",
    "$$\n",
    "\n",
    "Como mencionamos antes, a mayor número de condición de una matriz, peor condicionada estará. Esto conlleva a que pequeñas variaciones en los datos puedan modificar enormemente la solución. En este caso, el valor de $p$ juega un papel importante en este aspecto. \n",
    "\n",
    "* Un valor de $p$ cercano a 1 indica que \"el usuario\" es más propenso a seguir enlaces y se quede en páginas web relacionadas en la que estás. Sin embargo, un número $p$ muy cercano a 1 es contraproducente, ya que puede aumentar el condicionamiento de la matriz $(\\mathbf{I} - p\\mathbf{W}\\mathbf{D})$ y así arruinar la precisión.\n",
    "\n",
    "* Por otro lado, si $p$ es cercano a 0, significa que es más probable que decidas pasar a una página web completamente nueva en lugar de seguir enlaces."
   ]
  },
  {
   "cell_type": "markdown",
   "id": "b6527567-ea14-4fb0-8cbb-3faa67fee8c1",
   "metadata": {},
   "source": [
    "---"
   ]
  },
  {
   "cell_type": "markdown",
   "id": "c0620b64-0c90-4893-9cc7-65e1ec784254",
   "metadata": {},
   "source": [
    "## Implementación"
   ]
  },
  {
   "cell_type": "markdown",
   "id": "278fa511-9ad9-4124-b1b9-9198f1467c08",
   "metadata": {},
   "source": [
    "Implementar la factorización $LU$ para resolver el sistema de ecuaciones (6) que permite hallar la solución buscada (es decir, el ranking de páginas). Se podrá utilizar la función **scipy.linalg.solve_triangular** para resolver sistemas triangulares.\n",
    "\n",
    "En el siguiente cuerpo de la notebook se genera un test que va a evaluar la función que resuelve el sistema a través de un test unitario. La resolución debe realizarse en el archivo **funciones.py** que acompaña el **template-alumnos**."
   ]
  },
  {
   "cell_type": "code",
   "execution_count": 4,
   "id": "b0c1dd63",
   "metadata": {},
   "outputs": [],
   "source": [
    "from funciones import *"
   ]
  },
  {
   "cell_type": "markdown",
   "id": "589dfc50",
   "metadata": {},
   "source": [
    "### Test Unitario\n",
    "En el archivo funciones.py hay que implementar la función que obtienen el ranking de las páginas.\n",
    "Se espera que el llamado a la siguiente función arroje un valor esperado"
   ]
  },
  {
   "cell_type": "code",
   "execution_count": 3,
   "id": "be9e4b56",
   "metadata": {},
   "outputs": [
    {
     "name": "stdout",
     "output_type": "stream",
     "text": [
      "**************************************************\n",
      "Test unitario 1\n",
      "0.1811594202898551\n",
      "BIEN! - Paso correctamente el test unitario\n",
      "**************************************************\n"
     ]
    },
    {
     "data": {
      "image/png": "[encoded data removed]",
      "text/plain": [
       "<Figure size 432x288 with 1 Axes>"
      ]
     },
     "metadata": {},
     "output_type": "display_data"
    }
   ],
   "source": [
    "#ARCHIVOS DE ENTRADA\n",
    "archivo_test = './tests/test_dosestrellas.txt'\n",
    "    \n",
    "#CARGA DE ARCHIVO EN GRAFO\n",
    "W = leer_archivo(archivo_test)\n",
    "\n",
    "dibujarGrafo(W, print_ejes=False)\n",
    "\n",
    "# defino la probabilidad de salto de continuar los links de la pagina actual\n",
    "p = 0.5\n",
    "# Realizo el test unitario para el calculo del mayor score, que pruebe que el codigo funciona correctamente.\n",
    "print('*'*50)\n",
    "print('Test unitario 1')\n",
    "try:\n",
    "    res = obtenerMaximoRankingScore(W, p)\n",
    "    print(res)\n",
    "    assert(np.isclose(res, 0.1811, atol=1e-4))\n",
    "except:\n",
    "    print('OUCH!! - No paso el test unitario')\n",
    "else:\n",
    "    print('BIEN! - Paso correctamente el test unitario')\n",
    "print('*'*50)\n"
   ]
  },
  {
   "cell_type": "markdown",
   "id": "4a536571-fb90-42ca-af58-a99efd1ebaa9",
   "metadata": {},
   "source": [
    "### Test Unitarios Adicionales\n",
    "\n",
    "El grupo **deberá** proponer al menos 3 instancias de prueba no triviales, dos de las cuales deben ser de tipo TODOS LOS NODOS CONECTADOS, y otra de tipo NINGUNO CONECTADO. La tercera instancia queda a criterio del grupo.\n",
    "\n",
    "Para el análisis, guiarse y responder las siguientes preguntas: \n",
    "\n",
    "* ¿Cómo es el ranking obtenido en cada caso de acuerdo a la estructura del grafo páginas? \n",
    "* ¿Qué conclusiones pueden sacar de la interpretación de los resultados?\n",
    "\n",
    "Graficar los grafos usando las funciones en el **funciones.py**."
   ]
  },
  {
   "cell_type": "code",
   "execution_count": null,
   "id": "07f69bd8-9a22-4fa0-8e69-7e2580e80459",
   "metadata": {},
   "outputs": [],
   "source": []
  },
  {
   "cell_type": "markdown",
   "id": "19403a3c-422b-4bdb-85b3-058b90560067",
   "metadata": {},
   "source": [
    "---"
   ]
  },
  {
   "cell_type": "markdown",
   "id": "2b22c6d2-4f83-4f2f-a3f0-6a7bc02db06a",
   "metadata": {},
   "source": [
    "## Enunciado\n",
    "\n",
    "Sobre los casos de test que se encuentran en el folder `tests`, se pide realizar los análisis siguientes para todos los grafos del folder."
   ]
  },
  {
   "cell_type": "markdown",
   "id": "d121780f-0961-4732-98d0-5183e854f321",
   "metadata": {},
   "source": [
    "### Análisis Cuantitativo\n",
    "\n",
    "Para el análisis cuantitativo, se pide, como mínimo, estudiar los tiempos de procesamiento en función del tamaño del grafo de páginas y de la densidad del mismo. Para esto, se espera que presenten gráficos mostrando los tiempos de ejecución para obtener la solución en función de la cantidad de nodos/links de diferentes grafos de páginas aleatorios.\n"
   ]
  },
  {
   "cell_type": "code",
   "execution_count": null,
   "id": "52d4cf03-2016-4894-a2fa-611009372fd9",
   "metadata": {},
   "outputs": [],
   "source": []
  },
  {
   "cell_type": "markdown",
   "id": "5c526dc0-ec1e-4d7c-a7a5-a2d149b10995",
   "metadata": {},
   "source": [
    "### Análisis Cualitativo\n",
    "\n",
    "Para el análisis cualitativo se deberán estudiar los rankings obtenidos, en función de la estructura del grafo, y del valor de $p$. Para esto, se espera que presenten gráficos mostrando las probabilidades de las páginas mejor rankeadas en función del valor de $p$. \n"
   ]
  },
  {
   "cell_type": "code",
   "execution_count": null,
   "id": "1eaefc30-264c-4441-89b6-96426c214016",
   "metadata": {},
   "outputs": [],
   "source": []
  },
  {
   "cell_type": "markdown",
   "id": "5bced759-2060-4751-9a30-7c77ddcbefb0",
   "metadata": {},
   "source": [
    "### Dos estrellas\n",
    "\n",
    "Para el caso **test_dosestrellas.txt** se pregunta: \n",
    "\n",
    "¿Cuál es la mínima cantidad de links que se deben agregar para que la pagina correspondiente al nodo 1 quede primera en el ranking? ¿ Cómo se modificó la conectividad? Analizar.\n",
    "\n"
   ]
  },
  {
   "cell_type": "code",
   "execution_count": null,
   "id": "113e745d-0c8e-4694-b362-8f1bfe50db73",
   "metadata": {},
   "outputs": [],
   "source": []
  },
  {
   "cell_type": "code",
   "execution_count": null,
   "id": "88371d3e-899c-4f86-a248-e01db2c1f5d0",
   "metadata": {},
   "outputs": [],
   "source": []
  }
 ],
 "metadata": {
  "kernelspec": {
   "display_name": "Python 3 (ipykernel)",
   "language": "python",
   "name": "python3"
  },
  "language_info": {
   "codemirror_mode": {
    "name": "ipython",
    "version": 3
   },
   "file_extension": ".py",
   "mimetype": "text/x-python",
   "name": "python",
   "nbconvert_exporter": "python",
   "pygments_lexer": "ipython3",
   "version": "3.10.12"
  }
 },
 "nbformat": 4,
 "nbformat_minor": 5
}
