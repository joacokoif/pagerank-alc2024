{
 "cells": [
  {
   "cell_type": "code",
   "execution_count": 1,
   "metadata": {},
   "outputs": [],
   "source": [
    "import numpy as np\n"
   ]
  },
  {
   "cell_type": "code",
   "execution_count": 21,
   "metadata": {},
   "outputs": [
    {
     "name": "stdout",
     "output_type": "stream",
     "text": [
      "0 [1 0 0 0]\n",
      "999 [0.01315789 0.52631579 0.26315789 0.19736842]\n"
     ]
    }
   ],
   "source": [
    "\"\"\"\n",
    "P is the transition matrix for the Markov chain.\n",
    "P[i,j] is the probability of transitioning from state i to state j.\n",
    "Groups are the following: \n",
    "    1- People\n",
    "    2- Meta\n",
    "    3- Google\n",
    "    4- Amazon\n",
    "We want to see how much they gain with each investment degree.\n",
    "\"\"\"\n",
    "\n",
    "investment = 0.01\n",
    "P = np.array([[0.25, investment, investment, investment], \n",
    "              [0.40, 1-investment, 0 , 0],\n",
    "              [0.20, 0, 1-investment, 0],\n",
    "              [0.15, 0, 0, 1-investment]])\n",
    "\n",
    "# Initial state\n",
    "x = np.array([1, 0, 0, 0])\n",
    "print(0, x)\n",
    "\n",
    "# Compute the state after 1, 2, 3, 4, 5, 6, 7, 8, 9, 10 steps\n",
    "for i in range(1, 1000):\n",
    "    x = np.dot(P, x)\n",
    "\n",
    "print(i, x)\n",
    "\n"
   ]
  },
  {
   "cell_type": "code",
   "execution_count": null,
   "metadata": {},
   "outputs": [],
   "source": []
  }
 ],
 "metadata": {
  "kernelspec": {
   "display_name": "Python 3",
   "language": "python",
   "name": "python3"
  },
  "language_info": {
   "codemirror_mode": {
    "name": "ipython",
    "version": 3
   },
   "file_extension": ".py",
   "mimetype": "text/x-python",
   "name": "python",
   "nbconvert_exporter": "python",
   "pygments_lexer": "ipython3",
   "version": "3.11.1"
  }
 },
 "nbformat": 4,
 "nbformat_minor": 2
}
